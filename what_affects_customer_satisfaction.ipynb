{
  "nbformat": 4,
  "nbformat_minor": 0,
  "metadata": {
    "colab": {
      "provenance": []
    },
    "kernelspec": {
      "name": "python3",
      "display_name": "Python 3"
    },
    "language_info": {
      "name": "python"
    }
  },
  "cells": [
    {
      "cell_type": "code",
      "execution_count": 1,
      "metadata": {
        "id": "DylF25LVQ_1G"
      },
      "outputs": [],
      "source": [
        "import pandas as pd"
      ]
    },
    {
      "cell_type": "code",
      "source": [
        "df=pd.read_csv(\"/content/Survey data_Inflight Satisfaction Score.csv\")"
      ],
      "metadata": {
        "id": "nnz-DwNRS-0o"
      },
      "execution_count": 2,
      "outputs": []
    },
    {
      "cell_type": "code",
      "source": [
        "df.head()"
      ],
      "metadata": {
        "colab": {
          "base_uri": "https://localhost:8080/",
          "height": 429
        },
        "id": "FRt4lrwsURTP",
        "outputId": "8544bf28-7a45-40c4-a355-34fe37b29f0c"
      },
      "execution_count": 3,
      "outputs": [
        {
          "output_type": "execute_result",
          "data": {
            "text/plain": [
              "   flight_number origin_station_code destination_station_code record_locator  \\\n",
              "0           3802                 MKX                      ORX         CYXXJJ   \n",
              "1           4645                 COX                      DEX         DRXXMH   \n",
              "2           5236                 COX                      DEX         DEXXS1   \n",
              "3           4686                 DEX                      COX         PXXXLH   \n",
              "4            671                 DEX                      COX         KZXXH5   \n",
              "\n",
              "  scheduled_departure_date                                      question_text  \\\n",
              "0                 9/1/2022  How satisfied were you with the food & beverag...   \n",
              "1                 9/1/2022  How satisfied were you with the food & beverag...   \n",
              "2                 9/1/2022  How satisfied were you with the food & beverag...   \n",
              "3                 9/1/2022  How satisfied were you with the food & beverag...   \n",
              "4                 9/1/2022  How satisfied were you with the food & beverag...   \n",
              "\n",
              "  score satisfaction_type driver_sub_group1               driver_sub_group2  \\\n",
              "0     2      Dissatisfied   food & beverage  food and beverage satisfaction   \n",
              "1     5         Satisfied   food & beverage  food and beverage satisfaction   \n",
              "2     5         Satisfied   food & beverage  food and beverage satisfaction   \n",
              "3     3      Dissatisfied   food & beverage  food and beverage satisfaction   \n",
              "4     5         Satisfied   food & beverage  food and beverage satisfaction   \n",
              "\n",
              "   ...  equipment_type_code ua_uax actual_flown_miles haul_type  \\\n",
              "0  ...                  CRZ    UAX                 67     Short   \n",
              "1  ...                  E75    UAX                 72     Short   \n",
              "2  ...                  E75    UAX                 72     Short   \n",
              "3  ...                  CRJ    UAX                 72     Short   \n",
              "4  ...                  19F     UA                 72     Short   \n",
              "\n",
              "  departure_gate  arrival_gate international_domestic_indicator  \\\n",
              "0            C12           F10                         Domestic   \n",
              "1              5           B60                         Domestic   \n",
              "2              7           A71                         Domestic   \n",
              "3            B82             5                         Domestic   \n",
              "4            B24             3                         Domestic   \n",
              "\n",
              "  response_group media_provider        hub_spoke  \n",
              "0     non-member            NaN  spoke departure  \n",
              "1         member           GOGO  spoke departure  \n",
              "2         member           GOGO  spoke departure  \n",
              "3         member            NaN    hub departure  \n",
              "4         member      PANASONIC    hub departure  \n",
              "\n",
              "[5 rows x 31 columns]"
            ],
            "text/html": [
              "\n",
              "  <div id=\"df-ec0263b0-15b5-4389-8e46-6c9820e8e4bc\" class=\"colab-df-container\">\n",
              "    <div>\n",
              "<style scoped>\n",
              "    .dataframe tbody tr th:only-of-type {\n",
              "        vertical-align: middle;\n",
              "    }\n",
              "\n",
              "    .dataframe tbody tr th {\n",
              "        vertical-align: top;\n",
              "    }\n",
              "\n",
              "    .dataframe thead th {\n",
              "        text-align: right;\n",
              "    }\n",
              "</style>\n",
              "<table border=\"1\" class=\"dataframe\">\n",
              "  <thead>\n",
              "    <tr style=\"text-align: right;\">\n",
              "      <th></th>\n",
              "      <th>flight_number</th>\n",
              "      <th>origin_station_code</th>\n",
              "      <th>destination_station_code</th>\n",
              "      <th>record_locator</th>\n",
              "      <th>scheduled_departure_date</th>\n",
              "      <th>question_text</th>\n",
              "      <th>score</th>\n",
              "      <th>satisfaction_type</th>\n",
              "      <th>driver_sub_group1</th>\n",
              "      <th>driver_sub_group2</th>\n",
              "      <th>...</th>\n",
              "      <th>equipment_type_code</th>\n",
              "      <th>ua_uax</th>\n",
              "      <th>actual_flown_miles</th>\n",
              "      <th>haul_type</th>\n",
              "      <th>departure_gate</th>\n",
              "      <th>arrival_gate</th>\n",
              "      <th>international_domestic_indicator</th>\n",
              "      <th>response_group</th>\n",
              "      <th>media_provider</th>\n",
              "      <th>hub_spoke</th>\n",
              "    </tr>\n",
              "  </thead>\n",
              "  <tbody>\n",
              "    <tr>\n",
              "      <th>0</th>\n",
              "      <td>3802</td>\n",
              "      <td>MKX</td>\n",
              "      <td>ORX</td>\n",
              "      <td>CYXXJJ</td>\n",
              "      <td>9/1/2022</td>\n",
              "      <td>How satisfied were you with the food &amp; beverag...</td>\n",
              "      <td>2</td>\n",
              "      <td>Dissatisfied</td>\n",
              "      <td>food &amp; beverage</td>\n",
              "      <td>food and beverage satisfaction</td>\n",
              "      <td>...</td>\n",
              "      <td>CRZ</td>\n",
              "      <td>UAX</td>\n",
              "      <td>67</td>\n",
              "      <td>Short</td>\n",
              "      <td>C12</td>\n",
              "      <td>F10</td>\n",
              "      <td>Domestic</td>\n",
              "      <td>non-member</td>\n",
              "      <td>NaN</td>\n",
              "      <td>spoke departure</td>\n",
              "    </tr>\n",
              "    <tr>\n",
              "      <th>1</th>\n",
              "      <td>4645</td>\n",
              "      <td>COX</td>\n",
              "      <td>DEX</td>\n",
              "      <td>DRXXMH</td>\n",
              "      <td>9/1/2022</td>\n",
              "      <td>How satisfied were you with the food &amp; beverag...</td>\n",
              "      <td>5</td>\n",
              "      <td>Satisfied</td>\n",
              "      <td>food &amp; beverage</td>\n",
              "      <td>food and beverage satisfaction</td>\n",
              "      <td>...</td>\n",
              "      <td>E75</td>\n",
              "      <td>UAX</td>\n",
              "      <td>72</td>\n",
              "      <td>Short</td>\n",
              "      <td>5</td>\n",
              "      <td>B60</td>\n",
              "      <td>Domestic</td>\n",
              "      <td>member</td>\n",
              "      <td>GOGO</td>\n",
              "      <td>spoke departure</td>\n",
              "    </tr>\n",
              "    <tr>\n",
              "      <th>2</th>\n",
              "      <td>5236</td>\n",
              "      <td>COX</td>\n",
              "      <td>DEX</td>\n",
              "      <td>DEXXS1</td>\n",
              "      <td>9/1/2022</td>\n",
              "      <td>How satisfied were you with the food &amp; beverag...</td>\n",
              "      <td>5</td>\n",
              "      <td>Satisfied</td>\n",
              "      <td>food &amp; beverage</td>\n",
              "      <td>food and beverage satisfaction</td>\n",
              "      <td>...</td>\n",
              "      <td>E75</td>\n",
              "      <td>UAX</td>\n",
              "      <td>72</td>\n",
              "      <td>Short</td>\n",
              "      <td>7</td>\n",
              "      <td>A71</td>\n",
              "      <td>Domestic</td>\n",
              "      <td>member</td>\n",
              "      <td>GOGO</td>\n",
              "      <td>spoke departure</td>\n",
              "    </tr>\n",
              "    <tr>\n",
              "      <th>3</th>\n",
              "      <td>4686</td>\n",
              "      <td>DEX</td>\n",
              "      <td>COX</td>\n",
              "      <td>PXXXLH</td>\n",
              "      <td>9/1/2022</td>\n",
              "      <td>How satisfied were you with the food &amp; beverag...</td>\n",
              "      <td>3</td>\n",
              "      <td>Dissatisfied</td>\n",
              "      <td>food &amp; beverage</td>\n",
              "      <td>food and beverage satisfaction</td>\n",
              "      <td>...</td>\n",
              "      <td>CRJ</td>\n",
              "      <td>UAX</td>\n",
              "      <td>72</td>\n",
              "      <td>Short</td>\n",
              "      <td>B82</td>\n",
              "      <td>5</td>\n",
              "      <td>Domestic</td>\n",
              "      <td>member</td>\n",
              "      <td>NaN</td>\n",
              "      <td>hub departure</td>\n",
              "    </tr>\n",
              "    <tr>\n",
              "      <th>4</th>\n",
              "      <td>671</td>\n",
              "      <td>DEX</td>\n",
              "      <td>COX</td>\n",
              "      <td>KZXXH5</td>\n",
              "      <td>9/1/2022</td>\n",
              "      <td>How satisfied were you with the food &amp; beverag...</td>\n",
              "      <td>5</td>\n",
              "      <td>Satisfied</td>\n",
              "      <td>food &amp; beverage</td>\n",
              "      <td>food and beverage satisfaction</td>\n",
              "      <td>...</td>\n",
              "      <td>19F</td>\n",
              "      <td>UA</td>\n",
              "      <td>72</td>\n",
              "      <td>Short</td>\n",
              "      <td>B24</td>\n",
              "      <td>3</td>\n",
              "      <td>Domestic</td>\n",
              "      <td>member</td>\n",
              "      <td>PANASONIC</td>\n",
              "      <td>hub departure</td>\n",
              "    </tr>\n",
              "  </tbody>\n",
              "</table>\n",
              "<p>5 rows × 31 columns</p>\n",
              "</div>\n",
              "    <div class=\"colab-df-buttons\">\n",
              "\n",
              "  <div class=\"colab-df-container\">\n",
              "    <button class=\"colab-df-convert\" onclick=\"convertToInteractive('df-ec0263b0-15b5-4389-8e46-6c9820e8e4bc')\"\n",
              "            title=\"Convert this dataframe to an interactive table.\"\n",
              "            style=\"display:none;\">\n",
              "\n",
              "  <svg xmlns=\"http://www.w3.org/2000/svg\" height=\"24px\" viewBox=\"0 -960 960 960\">\n",
              "    <path d=\"M120-120v-720h720v720H120Zm60-500h600v-160H180v160Zm220 220h160v-160H400v160Zm0 220h160v-160H400v160ZM180-400h160v-160H180v160Zm440 0h160v-160H620v160ZM180-180h160v-160H180v160Zm440 0h160v-160H620v160Z\"/>\n",
              "  </svg>\n",
              "    </button>\n",
              "\n",
              "  <style>\n",
              "    .colab-df-container {\n",
              "      display:flex;\n",
              "      gap: 12px;\n",
              "    }\n",
              "\n",
              "    .colab-df-convert {\n",
              "      background-color: #E8F0FE;\n",
              "      border: none;\n",
              "      border-radius: 50%;\n",
              "      cursor: pointer;\n",
              "      display: none;\n",
              "      fill: #1967D2;\n",
              "      height: 32px;\n",
              "      padding: 0 0 0 0;\n",
              "      width: 32px;\n",
              "    }\n",
              "\n",
              "    .colab-df-convert:hover {\n",
              "      background-color: #E2EBFA;\n",
              "      box-shadow: 0px 1px 2px rgba(60, 64, 67, 0.3), 0px 1px 3px 1px rgba(60, 64, 67, 0.15);\n",
              "      fill: #174EA6;\n",
              "    }\n",
              "\n",
              "    .colab-df-buttons div {\n",
              "      margin-bottom: 4px;\n",
              "    }\n",
              "\n",
              "    [theme=dark] .colab-df-convert {\n",
              "      background-color: #3B4455;\n",
              "      fill: #D2E3FC;\n",
              "    }\n",
              "\n",
              "    [theme=dark] .colab-df-convert:hover {\n",
              "      background-color: #434B5C;\n",
              "      box-shadow: 0px 1px 3px 1px rgba(0, 0, 0, 0.15);\n",
              "      filter: drop-shadow(0px 1px 2px rgba(0, 0, 0, 0.3));\n",
              "      fill: #FFFFFF;\n",
              "    }\n",
              "  </style>\n",
              "\n",
              "    <script>\n",
              "      const buttonEl =\n",
              "        document.querySelector('#df-ec0263b0-15b5-4389-8e46-6c9820e8e4bc button.colab-df-convert');\n",
              "      buttonEl.style.display =\n",
              "        google.colab.kernel.accessAllowed ? 'block' : 'none';\n",
              "\n",
              "      async function convertToInteractive(key) {\n",
              "        const element = document.querySelector('#df-ec0263b0-15b5-4389-8e46-6c9820e8e4bc');\n",
              "        const dataTable =\n",
              "          await google.colab.kernel.invokeFunction('convertToInteractive',\n",
              "                                                    [key], {});\n",
              "        if (!dataTable) return;\n",
              "\n",
              "        const docLinkHtml = 'Like what you see? Visit the ' +\n",
              "          '<a target=\"_blank\" href=https://colab.research.google.com/notebooks/data_table.ipynb>data table notebook</a>'\n",
              "          + ' to learn more about interactive tables.';\n",
              "        element.innerHTML = '';\n",
              "        dataTable['output_type'] = 'display_data';\n",
              "        await google.colab.output.renderOutput(dataTable, element);\n",
              "        const docLink = document.createElement('div');\n",
              "        docLink.innerHTML = docLinkHtml;\n",
              "        element.appendChild(docLink);\n",
              "      }\n",
              "    </script>\n",
              "  </div>\n",
              "\n",
              "\n",
              "<div id=\"df-3eb909da-a4f1-4388-91c2-58c873294d54\">\n",
              "  <button class=\"colab-df-quickchart\" onclick=\"quickchart('df-3eb909da-a4f1-4388-91c2-58c873294d54')\"\n",
              "            title=\"Suggest charts.\"\n",
              "            style=\"display:none;\">\n",
              "\n",
              "<svg xmlns=\"http://www.w3.org/2000/svg\" height=\"24px\"viewBox=\"0 0 24 24\"\n",
              "     width=\"24px\">\n",
              "    <g>\n",
              "        <path d=\"M19 3H5c-1.1 0-2 .9-2 2v14c0 1.1.9 2 2 2h14c1.1 0 2-.9 2-2V5c0-1.1-.9-2-2-2zM9 17H7v-7h2v7zm4 0h-2V7h2v10zm4 0h-2v-4h2v4z\"/>\n",
              "    </g>\n",
              "</svg>\n",
              "  </button>\n",
              "\n",
              "<style>\n",
              "  .colab-df-quickchart {\n",
              "    background-color: #E8F0FE;\n",
              "    border: none;\n",
              "    border-radius: 50%;\n",
              "    cursor: pointer;\n",
              "    display: none;\n",
              "    fill: #1967D2;\n",
              "    height: 32px;\n",
              "    padding: 0 0 0 0;\n",
              "    width: 32px;\n",
              "  }\n",
              "\n",
              "  .colab-df-quickchart:hover {\n",
              "    background-color: #E2EBFA;\n",
              "    box-shadow: 0px 1px 2px rgba(60, 64, 67, 0.3), 0px 1px 3px 1px rgba(60, 64, 67, 0.15);\n",
              "    fill: #174EA6;\n",
              "  }\n",
              "\n",
              "  [theme=dark] .colab-df-quickchart {\n",
              "    background-color: #3B4455;\n",
              "    fill: #D2E3FC;\n",
              "  }\n",
              "\n",
              "  [theme=dark] .colab-df-quickchart:hover {\n",
              "    background-color: #434B5C;\n",
              "    box-shadow: 0px 1px 3px 1px rgba(0, 0, 0, 0.15);\n",
              "    filter: drop-shadow(0px 1px 2px rgba(0, 0, 0, 0.3));\n",
              "    fill: #FFFFFF;\n",
              "  }\n",
              "</style>\n",
              "\n",
              "  <script>\n",
              "    async function quickchart(key) {\n",
              "      const charts = await google.colab.kernel.invokeFunction(\n",
              "          'suggestCharts', [key], {});\n",
              "    }\n",
              "    (() => {\n",
              "      let quickchartButtonEl =\n",
              "        document.querySelector('#df-3eb909da-a4f1-4388-91c2-58c873294d54 button');\n",
              "      quickchartButtonEl.style.display =\n",
              "        google.colab.kernel.accessAllowed ? 'block' : 'none';\n",
              "    })();\n",
              "  </script>\n",
              "</div>\n",
              "    </div>\n",
              "  </div>\n"
            ]
          },
          "metadata": {},
          "execution_count": 3
        }
      ]
    },
    {
      "cell_type": "code",
      "source": [
        "df.columns\n"
      ],
      "metadata": {
        "colab": {
          "base_uri": "https://localhost:8080/"
        },
        "id": "xYSgJU_7UT_Z",
        "outputId": "cd21da91-eb78-4e2c-f456-6dd703239ce4"
      },
      "execution_count": 4,
      "outputs": [
        {
          "output_type": "execute_result",
          "data": {
            "text/plain": [
              "Index(['flight_number', 'origin_station_code', 'destination_station_code',\n",
              "       'record_locator', 'scheduled_departure_date', 'question_text', 'score',\n",
              "       'satisfaction_type', 'driver_sub_group1', 'driver_sub_group2',\n",
              "       'arrival_delay_minutes', 'arrival_delay_group', 'cabin_code_desc',\n",
              "       'cabin_name', 'entity', 'number_of_legs', 'seat_factor_band',\n",
              "       'loyalty_program_level', 'generation', 'fleet_type_description',\n",
              "       'fleet_usage', 'equipment_type_code', 'ua_uax', 'actual_flown_miles',\n",
              "       'haul_type', 'departure_gate', 'arrival_gate',\n",
              "       'international_domestic_indicator', 'response_group', 'media_provider',\n",
              "       'hub_spoke'],\n",
              "      dtype='object')"
            ]
          },
          "metadata": {},
          "execution_count": 4
        }
      ]
    },
    {
      "cell_type": "code",
      "source": [
        "df.isnull().sum()"
      ],
      "metadata": {
        "colab": {
          "base_uri": "https://localhost:8080/"
        },
        "id": "uB-q27V2UY6j",
        "outputId": "679fbe3e-2a59-46fb-875d-693192648f1b"
      },
      "execution_count": 5,
      "outputs": [
        {
          "output_type": "execute_result",
          "data": {
            "text/plain": [
              "flight_number                           0\n",
              "origin_station_code                     0\n",
              "destination_station_code                0\n",
              "record_locator                          0\n",
              "scheduled_departure_date                0\n",
              "question_text                           0\n",
              "score                                   0\n",
              "satisfaction_type                   12111\n",
              "driver_sub_group1                       0\n",
              "driver_sub_group2                       0\n",
              "arrival_delay_minutes                   0\n",
              "arrival_delay_group                     0\n",
              "cabin_code_desc                         0\n",
              "cabin_name                          19980\n",
              "entity                                  3\n",
              "number_of_legs                          0\n",
              "seat_factor_band                        0\n",
              "loyalty_program_level               11616\n",
              "generation                              0\n",
              "fleet_type_description                  0\n",
              "fleet_usage                             0\n",
              "equipment_type_code                     0\n",
              "ua_uax                                  0\n",
              "actual_flown_miles                      0\n",
              "haul_type                               0\n",
              "departure_gate                         97\n",
              "arrival_gate                          527\n",
              "international_domestic_indicator        0\n",
              "response_group                          0\n",
              "media_provider                       1539\n",
              "hub_spoke                               0\n",
              "dtype: int64"
            ]
          },
          "metadata": {},
          "execution_count": 5
        }
      ]
    },
    {
      "cell_type": "code",
      "source": [
        "df.describe()"
      ],
      "metadata": {
        "colab": {
          "base_uri": "https://localhost:8080/",
          "height": 300
        },
        "id": "fV6eX7DGU2cd",
        "outputId": "8418665b-431c-489b-ea6d-b68e681708d1"
      },
      "execution_count": 6,
      "outputs": [
        {
          "output_type": "execute_result",
          "data": {
            "text/plain": [
              "       flight_number  arrival_delay_minutes  number_of_legs  \\\n",
              "count   47074.000000           47074.000000    47074.000000   \n",
              "mean     1529.855207              -1.702490        1.344118   \n",
              "std      1456.712299              37.868177        0.502424   \n",
              "min         2.000000            -104.000000        1.000000   \n",
              "25%       477.000000             -19.000000        1.000000   \n",
              "50%      1050.000000              -9.000000        1.000000   \n",
              "75%      2060.000000               4.000000        2.000000   \n",
              "max      6376.000000             907.000000        3.000000   \n",
              "\n",
              "       actual_flown_miles  \n",
              "count        47074.000000  \n",
              "mean          2477.737732  \n",
              "std           1865.646538  \n",
              "min             45.000000  \n",
              "25%            932.000000  \n",
              "50%           1846.000000  \n",
              "75%           3870.000000  \n",
              "max           8440.000000  "
            ],
            "text/html": [
              "\n",
              "  <div id=\"df-38483766-db41-450d-8d5a-4f65c95576ed\" class=\"colab-df-container\">\n",
              "    <div>\n",
              "<style scoped>\n",
              "    .dataframe tbody tr th:only-of-type {\n",
              "        vertical-align: middle;\n",
              "    }\n",
              "\n",
              "    .dataframe tbody tr th {\n",
              "        vertical-align: top;\n",
              "    }\n",
              "\n",
              "    .dataframe thead th {\n",
              "        text-align: right;\n",
              "    }\n",
              "</style>\n",
              "<table border=\"1\" class=\"dataframe\">\n",
              "  <thead>\n",
              "    <tr style=\"text-align: right;\">\n",
              "      <th></th>\n",
              "      <th>flight_number</th>\n",
              "      <th>arrival_delay_minutes</th>\n",
              "      <th>number_of_legs</th>\n",
              "      <th>actual_flown_miles</th>\n",
              "    </tr>\n",
              "  </thead>\n",
              "  <tbody>\n",
              "    <tr>\n",
              "      <th>count</th>\n",
              "      <td>47074.000000</td>\n",
              "      <td>47074.000000</td>\n",
              "      <td>47074.000000</td>\n",
              "      <td>47074.000000</td>\n",
              "    </tr>\n",
              "    <tr>\n",
              "      <th>mean</th>\n",
              "      <td>1529.855207</td>\n",
              "      <td>-1.702490</td>\n",
              "      <td>1.344118</td>\n",
              "      <td>2477.737732</td>\n",
              "    </tr>\n",
              "    <tr>\n",
              "      <th>std</th>\n",
              "      <td>1456.712299</td>\n",
              "      <td>37.868177</td>\n",
              "      <td>0.502424</td>\n",
              "      <td>1865.646538</td>\n",
              "    </tr>\n",
              "    <tr>\n",
              "      <th>min</th>\n",
              "      <td>2.000000</td>\n",
              "      <td>-104.000000</td>\n",
              "      <td>1.000000</td>\n",
              "      <td>45.000000</td>\n",
              "    </tr>\n",
              "    <tr>\n",
              "      <th>25%</th>\n",
              "      <td>477.000000</td>\n",
              "      <td>-19.000000</td>\n",
              "      <td>1.000000</td>\n",
              "      <td>932.000000</td>\n",
              "    </tr>\n",
              "    <tr>\n",
              "      <th>50%</th>\n",
              "      <td>1050.000000</td>\n",
              "      <td>-9.000000</td>\n",
              "      <td>1.000000</td>\n",
              "      <td>1846.000000</td>\n",
              "    </tr>\n",
              "    <tr>\n",
              "      <th>75%</th>\n",
              "      <td>2060.000000</td>\n",
              "      <td>4.000000</td>\n",
              "      <td>2.000000</td>\n",
              "      <td>3870.000000</td>\n",
              "    </tr>\n",
              "    <tr>\n",
              "      <th>max</th>\n",
              "      <td>6376.000000</td>\n",
              "      <td>907.000000</td>\n",
              "      <td>3.000000</td>\n",
              "      <td>8440.000000</td>\n",
              "    </tr>\n",
              "  </tbody>\n",
              "</table>\n",
              "</div>\n",
              "    <div class=\"colab-df-buttons\">\n",
              "\n",
              "  <div class=\"colab-df-container\">\n",
              "    <button class=\"colab-df-convert\" onclick=\"convertToInteractive('df-38483766-db41-450d-8d5a-4f65c95576ed')\"\n",
              "            title=\"Convert this dataframe to an interactive table.\"\n",
              "            style=\"display:none;\">\n",
              "\n",
              "  <svg xmlns=\"http://www.w3.org/2000/svg\" height=\"24px\" viewBox=\"0 -960 960 960\">\n",
              "    <path d=\"M120-120v-720h720v720H120Zm60-500h600v-160H180v160Zm220 220h160v-160H400v160Zm0 220h160v-160H400v160ZM180-400h160v-160H180v160Zm440 0h160v-160H620v160ZM180-180h160v-160H180v160Zm440 0h160v-160H620v160Z\"/>\n",
              "  </svg>\n",
              "    </button>\n",
              "\n",
              "  <style>\n",
              "    .colab-df-container {\n",
              "      display:flex;\n",
              "      gap: 12px;\n",
              "    }\n",
              "\n",
              "    .colab-df-convert {\n",
              "      background-color: #E8F0FE;\n",
              "      border: none;\n",
              "      border-radius: 50%;\n",
              "      cursor: pointer;\n",
              "      display: none;\n",
              "      fill: #1967D2;\n",
              "      height: 32px;\n",
              "      padding: 0 0 0 0;\n",
              "      width: 32px;\n",
              "    }\n",
              "\n",
              "    .colab-df-convert:hover {\n",
              "      background-color: #E2EBFA;\n",
              "      box-shadow: 0px 1px 2px rgba(60, 64, 67, 0.3), 0px 1px 3px 1px rgba(60, 64, 67, 0.15);\n",
              "      fill: #174EA6;\n",
              "    }\n",
              "\n",
              "    .colab-df-buttons div {\n",
              "      margin-bottom: 4px;\n",
              "    }\n",
              "\n",
              "    [theme=dark] .colab-df-convert {\n",
              "      background-color: #3B4455;\n",
              "      fill: #D2E3FC;\n",
              "    }\n",
              "\n",
              "    [theme=dark] .colab-df-convert:hover {\n",
              "      background-color: #434B5C;\n",
              "      box-shadow: 0px 1px 3px 1px rgba(0, 0, 0, 0.15);\n",
              "      filter: drop-shadow(0px 1px 2px rgba(0, 0, 0, 0.3));\n",
              "      fill: #FFFFFF;\n",
              "    }\n",
              "  </style>\n",
              "\n",
              "    <script>\n",
              "      const buttonEl =\n",
              "        document.querySelector('#df-38483766-db41-450d-8d5a-4f65c95576ed button.colab-df-convert');\n",
              "      buttonEl.style.display =\n",
              "        google.colab.kernel.accessAllowed ? 'block' : 'none';\n",
              "\n",
              "      async function convertToInteractive(key) {\n",
              "        const element = document.querySelector('#df-38483766-db41-450d-8d5a-4f65c95576ed');\n",
              "        const dataTable =\n",
              "          await google.colab.kernel.invokeFunction('convertToInteractive',\n",
              "                                                    [key], {});\n",
              "        if (!dataTable) return;\n",
              "\n",
              "        const docLinkHtml = 'Like what you see? Visit the ' +\n",
              "          '<a target=\"_blank\" href=https://colab.research.google.com/notebooks/data_table.ipynb>data table notebook</a>'\n",
              "          + ' to learn more about interactive tables.';\n",
              "        element.innerHTML = '';\n",
              "        dataTable['output_type'] = 'display_data';\n",
              "        await google.colab.output.renderOutput(dataTable, element);\n",
              "        const docLink = document.createElement('div');\n",
              "        docLink.innerHTML = docLinkHtml;\n",
              "        element.appendChild(docLink);\n",
              "      }\n",
              "    </script>\n",
              "  </div>\n",
              "\n",
              "\n",
              "<div id=\"df-d2e60cc9-c30e-40dd-b414-fbfa45fc9d7d\">\n",
              "  <button class=\"colab-df-quickchart\" onclick=\"quickchart('df-d2e60cc9-c30e-40dd-b414-fbfa45fc9d7d')\"\n",
              "            title=\"Suggest charts.\"\n",
              "            style=\"display:none;\">\n",
              "\n",
              "<svg xmlns=\"http://www.w3.org/2000/svg\" height=\"24px\"viewBox=\"0 0 24 24\"\n",
              "     width=\"24px\">\n",
              "    <g>\n",
              "        <path d=\"M19 3H5c-1.1 0-2 .9-2 2v14c0 1.1.9 2 2 2h14c1.1 0 2-.9 2-2V5c0-1.1-.9-2-2-2zM9 17H7v-7h2v7zm4 0h-2V7h2v10zm4 0h-2v-4h2v4z\"/>\n",
              "    </g>\n",
              "</svg>\n",
              "  </button>\n",
              "\n",
              "<style>\n",
              "  .colab-df-quickchart {\n",
              "    background-color: #E8F0FE;\n",
              "    border: none;\n",
              "    border-radius: 50%;\n",
              "    cursor: pointer;\n",
              "    display: none;\n",
              "    fill: #1967D2;\n",
              "    height: 32px;\n",
              "    padding: 0 0 0 0;\n",
              "    width: 32px;\n",
              "  }\n",
              "\n",
              "  .colab-df-quickchart:hover {\n",
              "    background-color: #E2EBFA;\n",
              "    box-shadow: 0px 1px 2px rgba(60, 64, 67, 0.3), 0px 1px 3px 1px rgba(60, 64, 67, 0.15);\n",
              "    fill: #174EA6;\n",
              "  }\n",
              "\n",
              "  [theme=dark] .colab-df-quickchart {\n",
              "    background-color: #3B4455;\n",
              "    fill: #D2E3FC;\n",
              "  }\n",
              "\n",
              "  [theme=dark] .colab-df-quickchart:hover {\n",
              "    background-color: #434B5C;\n",
              "    box-shadow: 0px 1px 3px 1px rgba(0, 0, 0, 0.15);\n",
              "    filter: drop-shadow(0px 1px 2px rgba(0, 0, 0, 0.3));\n",
              "    fill: #FFFFFF;\n",
              "  }\n",
              "</style>\n",
              "\n",
              "  <script>\n",
              "    async function quickchart(key) {\n",
              "      const charts = await google.colab.kernel.invokeFunction(\n",
              "          'suggestCharts', [key], {});\n",
              "    }\n",
              "    (() => {\n",
              "      let quickchartButtonEl =\n",
              "        document.querySelector('#df-d2e60cc9-c30e-40dd-b414-fbfa45fc9d7d button');\n",
              "      quickchartButtonEl.style.display =\n",
              "        google.colab.kernel.accessAllowed ? 'block' : 'none';\n",
              "    })();\n",
              "  </script>\n",
              "</div>\n",
              "    </div>\n",
              "  </div>\n"
            ]
          },
          "metadata": {},
          "execution_count": 6
        }
      ]
    },
    {
      "cell_type": "code",
      "source": [
        "def assign_satisfaction_type(score):\n",
        "    if score in [4, 5]:\n",
        "        return 'Satisfied'\n",
        "    else:\n",
        "        return 'Dissatisfied'\n",
        "\n",
        "for index, row in df.iterrows():\n",
        "    if pd.isnull(row['satisfaction_type']):\n",
        "        df.at[index, 'satisfaction_type'] = assign_satisfaction_type(row['score'])\n"
      ],
      "metadata": {
        "id": "XxCvFTejU9BB"
      },
      "execution_count": 7,
      "outputs": []
    },
    {
      "cell_type": "code",
      "source": [
        "columns_to_drop = ['cabin_name', 'loyalty_program_level','departure_gate','arrival_gate','media_provider','equipment_type_code','fleet_type_description','response_group','driver_sub_group1','driver_sub_group2','arrival_delay_minutes']\n",
        "df = df.drop(columns=columns_to_drop)"
      ],
      "metadata": {
        "id": "mwsDF3GEWqTo"
      },
      "execution_count": 8,
      "outputs": []
    },
    {
      "cell_type": "code",
      "source": [
        "df = df.dropna(subset=['entity'])"
      ],
      "metadata": {
        "id": "X7t-Y2zkYVO0"
      },
      "execution_count": 9,
      "outputs": []
    },
    {
      "cell_type": "code",
      "source": [
        "def map_satisfaction_label(satisfaction_type):\n",
        "    if satisfaction_type == 'Satisfied':\n",
        "        return 1\n",
        "    elif satisfaction_type == 'Dissatisfied':\n",
        "        return 0\n",
        "    else:\n",
        "        return None\n",
        "\n",
        "df['satisfaction_label'] = df['satisfaction_type'].apply(map_satisfaction_label)"
      ],
      "metadata": {
        "id": "gB7k5V8bbwma"
      },
      "execution_count": 10,
      "outputs": []
    },
    {
      "cell_type": "code",
      "source": [
        "import pandas as pd\n",
        "import numpy as np\n",
        "from sklearn.tree import DecisionTreeClassifier\n",
        "from sklearn.model_selection import train_test_split\n",
        "from sklearn.metrics import accuracy_score, confusion_matrix, classification_report"
      ],
      "metadata": {
        "id": "1Rw0g5ayyAFA"
      },
      "execution_count": 11,
      "outputs": []
    },
    {
      "cell_type": "code",
      "source": [
        "feature_columns=[\n",
        "      'arrival_delay_group', 'cabin_code_desc',\n",
        "       'entity', 'number_of_legs', 'seat_factor_band', 'generation',\n",
        "       'fleet_usage', 'ua_uax', 'actual_flown_miles', 'haul_type',\n",
        "       'international_domestic_indicator', 'hub_spoke']"
      ],
      "metadata": {
        "id": "9_C0DHM9YXR7"
      },
      "execution_count": 12,
      "outputs": []
    },
    {
      "cell_type": "code",
      "source": [
        "x = df[feature_columns]\n",
        "y1 = df.satisfaction_type"
      ],
      "metadata": {
        "id": "M7wXn5s5by_O"
      },
      "execution_count": 13,
      "outputs": []
    },
    {
      "cell_type": "code",
      "source": [
        "x_train, x_test, y1_train, y1_test = train_test_split(x, y1, test_size=0.10, random_state=42)"
      ],
      "metadata": {
        "id": "-C3jAT4lx-NI"
      },
      "execution_count": 14,
      "outputs": []
    },
    {
      "cell_type": "code",
      "source": [
        "from sklearn.preprocessing import LabelEncoder\n",
        "\n",
        "label_encoder = LabelEncoder()\n",
        "y1_train_encoded = label_encoder.fit_transform(y1_train)\n",
        "y1_test_encoded = label_encoder.transform(y1_test)\n"
      ],
      "metadata": {
        "id": "uXJSulbP2GKF"
      },
      "execution_count": 15,
      "outputs": []
    },
    {
      "cell_type": "code",
      "source": [
        "from sklearn.preprocessing import OneHotEncoder\n",
        "\n",
        "onehot_encoder = OneHotEncoder(handle_unknown='ignore')\n",
        "x_train_encoded = onehot_encoder.fit_transform(x_train)\n",
        "x_test_encoded = onehot_encoder.transform(x_test)\n"
      ],
      "metadata": {
        "id": "ktI6DLuE2iiF"
      },
      "execution_count": 16,
      "outputs": []
    },
    {
      "cell_type": "code",
      "source": [
        "encoded_feature_names = onehot_encoder.get_feature_names_out(input_features=feature_columns)\n",
        "len(encoded_feature_names)"
      ],
      "metadata": {
        "colab": {
          "base_uri": "https://localhost:8080/"
        },
        "id": "eh71E7ni_FuP",
        "outputId": "de11c985-daad-48f8-c09a-72b6e522cd54"
      },
      "execution_count": 17,
      "outputs": [
        {
          "output_type": "execute_result",
          "data": {
            "text/plain": [
              "762"
            ]
          },
          "metadata": {},
          "execution_count": 17
        }
      ]
    },
    {
      "cell_type": "code",
      "source": [
        "from sklearn.tree import DecisionTreeClassifier\n",
        "\n",
        "tree_model = DecisionTreeClassifier(random_state=42)\n",
        "tree_model.fit(x_train_encoded, y1_train_encoded)\n",
        "y1_pred=tree_model.predict(x_test_encoded)\n",
        "print('Accuracy:', accuracy_score(y1_test_encoded, y1_pred))\n",
        "print('Confusion matrix:\\n', confusion_matrix(y1_test_encoded, y1_pred))\n",
        "print('Classification report:\\n', classification_report(y1_test_encoded, y1_pred))\n",
        "\n",
        "\n",
        "feature_importances = tree_model.feature_importances_\n",
        "\n",
        "encoded_feature_names = onehot_encoder.get_feature_names_out(input_features=feature_columns)\n",
        "original_feature_names = []\n",
        "for encoded_name in encoded_feature_names:\n",
        "    original_name = encoded_name.split('_')[:-1]\n",
        "    original_feature_names.append('_'.join(original_name))\n",
        "\n",
        "\n",
        "importance_dict = dict(zip(original_feature_names, feature_importances))\n",
        "\n",
        "for feature, importance in importance_dict.items():\n",
        "    print(f\"Feature: {feature}, Importance: {importance}\")\n",
        "\n"
      ],
      "metadata": {
        "colab": {
          "base_uri": "https://localhost:8080/"
        },
        "id": "4clY1E167jtW",
        "outputId": "6569f96c-2ba1-4bde-c494-8aaedf8133cc"
      },
      "execution_count": 18,
      "outputs": [
        {
          "output_type": "stream",
          "name": "stdout",
          "text": [
            "Accuracy: 0.657179269328802\n",
            "Confusion matrix:\n",
            " [[2902  510]\n",
            " [1104  192]]\n",
            "Classification report:\n",
            "               precision    recall  f1-score   support\n",
            "\n",
            "           0       0.72      0.85      0.78      3412\n",
            "           1       0.27      0.15      0.19      1296\n",
            "\n",
            "    accuracy                           0.66      4708\n",
            "   macro avg       0.50      0.50      0.49      4708\n",
            "weighted avg       0.60      0.66      0.62      4708\n",
            "\n",
            "Feature: arrival_delay_group, Importance: 0.011928808777132859\n",
            "Feature: cabin_code_desc, Importance: 0.004468486996993132\n",
            "Feature: entity, Importance: 0.0006072762076524633\n",
            "Feature: number_of_legs, Importance: 0.005360207554024\n",
            "Feature: seat_factor_band, Importance: 0.037106475075615826\n",
            "Feature: generation, Importance: 0.015047589750496805\n",
            "Feature: fleet_usage, Importance: 0.0036976726291123793\n",
            "Feature: ua_uax, Importance: 0.0036878193498199145\n",
            "Feature: actual_flown_miles, Importance: 0.0005504308909944978\n",
            "Feature: haul_type, Importance: 0.0010739221889586486\n",
            "Feature: international_domestic_indicator, Importance: 0.00014051279153551828\n",
            "Feature: hub_spoke, Importance: 0.02215671479261894\n"
          ]
        }
      ]
    },
    {
      "cell_type": "code",
      "source": [
        "from sklearn.linear_model import LogisticRegression\n",
        "from sklearn import metrics\n",
        "from sklearn.metrics import accuracy_score, precision_score, recall_score, f1_score, roc_auc_score, roc_curve, auc\n",
        "import matplotlib.pyplot as plt\n",
        "\n",
        "logreg = LogisticRegression(random_state=16,max_iter=10000)\n",
        "\n",
        "logreg.fit(x_train_encoded, y1_train_encoded)\n",
        "y1_pred = logreg.predict(x_test_encoded)\n",
        "print(\"Accuracy score for y1:\", accuracy_score(y1_test_encoded, y1_pred))\n",
        "\n",
        "print(\"Confusion matrix for y1:\\n\", metrics.confusion_matrix(y1_test_encoded, y1_pred))\n",
        "\n",
        "print(\"Precision score for y1:\", precision_score(y1_test_encoded, y1_pred))\n",
        "\n",
        "print(\"Recall score for y1:\", recall_score(y1_test_encoded, y1_pred))\n",
        "\n",
        "print(\"F1 score for y1:\", f1_score(y1_test_encoded, y1_pred))\n"
      ],
      "metadata": {
        "colab": {
          "base_uri": "https://localhost:8080/"
        },
        "id": "LSSU_K7y9RBd",
        "outputId": "663bf0b2-8461-46f0-888c-60915edaae19"
      },
      "execution_count": 19,
      "outputs": [
        {
          "output_type": "stream",
          "name": "stdout",
          "text": [
            "Accuracy score for y1: 0.7234494477485132\n",
            "Confusion matrix for y1:\n",
            " [[3368   44]\n",
            " [1258   38]]\n",
            "Precision score for y1: 0.4634146341463415\n",
            "Recall score for y1: 0.029320987654320986\n",
            "F1 score for y1: 0.05515239477503628\n"
          ]
        }
      ]
    },
    {
      "cell_type": "code",
      "source": [
        "from sklearn.linear_model import LogisticRegression\n",
        "from sklearn import metrics\n",
        "from sklearn.metrics import accuracy_score, precision_score, recall_score, f1_score, roc_auc_score, roc_curve, auc\n",
        "import matplotlib.pyplot as plt\n",
        "\n",
        "logreg = LogisticRegression(random_state=16, max_iter=10000)\n",
        "logreg.fit(x_train_encoded, y1_train_encoded)\n",
        "\n",
        "coefficients = logreg.coef_[0]\n",
        "\n",
        "coefficient_dict = dict(zip(original_feature_names, coefficients))\n",
        "\n",
        "for feature, coefficient in coefficient_dict.items():\n",
        "    print(f\"Feature: {feature}, Coefficient: {coefficient}\")\n",
        "\n",
        "y1_pred = logreg.predict(x_test_encoded)\n",
        "print(\"Accuracy score for y1:\", accuracy_score(y1_test_encoded, y1_pred))\n",
        "\n",
        "print(\"Confusion matrix for y1:\\n\", metrics.confusion_matrix(y1_test_encoded, y1_pred))\n",
        "\n",
        "print(\"Precision score for y1:\", precision_score(y1_test_encoded, y1_pred))\n",
        "\n",
        "print(\"Recall score for y1:\", recall_score(y1_test_encoded, y1_pred))\n",
        "\n",
        "print(\"F1 score for y1:\", f1_score(y1_test_encoded, y1_pred))\n"
      ],
      "metadata": {
        "colab": {
          "base_uri": "https://localhost:8080/"
        },
        "id": "KJ8G9OZfgKZn",
        "outputId": "7ea61c95-967e-421d-f610-e1939729ffc5"
      },
      "execution_count": 20,
      "outputs": [
        {
          "output_type": "stream",
          "name": "stdout",
          "text": [
            "Feature: arrival_delay_group, Coefficient: 0.05924244402052534\n",
            "Feature: cabin_code_desc, Coefficient: 0.0446522408566536\n",
            "Feature: entity, Coefficient: -0.22048408920344423\n",
            "Feature: number_of_legs, Coefficient: 0.0790481505250838\n",
            "Feature: seat_factor_band, Coefficient: -0.10504913697162999\n",
            "Feature: generation, Coefficient: 0.09043663370741353\n",
            "Feature: fleet_usage, Coefficient: -0.015074061237624437\n",
            "Feature: ua_uax, Coefficient: -0.0505659544803617\n",
            "Feature: actual_flown_miles, Coefficient: 0.013583151070975331\n",
            "Feature: haul_type, Coefficient: 0.08718533562991973\n",
            "Feature: international_domestic_indicator, Coefficient: -0.1344435220569743\n",
            "Feature: hub_spoke, Coefficient: -0.01766124531891842\n",
            "Accuracy score for y1: 0.7234494477485132\n",
            "Confusion matrix for y1:\n",
            " [[3368   44]\n",
            " [1258   38]]\n",
            "Precision score for y1: 0.4634146341463415\n",
            "Recall score for y1: 0.029320987654320986\n",
            "F1 score for y1: 0.05515239477503628\n"
          ]
        }
      ]
    },
    {
      "cell_type": "code",
      "source": [
        "!pip install shap"
      ],
      "metadata": {
        "id": "e9_ewHxkm6fM"
      },
      "execution_count": null,
      "outputs": []
    },
    {
      "cell_type": "code",
      "source": [
        "import shap\n",
        "\n",
        "\n",
        "explainer = shap.Explainer(logreg, x_train_encoded)\n",
        "\n",
        "shap_values = explainer(x_test_encoded)\n",
        "\n",
        "shap.summary_plot(shap_values, x_test_encoded, feature_names=original_feature_names)\n"
      ],
      "metadata": {
        "colab": {
          "base_uri": "https://localhost:8080/",
          "height": 995
        },
        "id": "YMurnKsNm-4f",
        "outputId": "f192504e-8788-405c-f165-9d2b0b0e1b4d"
      },
      "execution_count": 43,
      "outputs": [
        {
          "output_type": "stream",
          "name": "stderr",
          "text": [
            "Using `tqdm.autonotebook.tqdm` in notebook mode. Use `tqdm.tqdm` instead to force console mode (e.g. in jupyter console)\n"
          ]
        },
        {
          "output_type": "display_data",
          "data": {
            "text/plain": [
              "<Figure size 800x950 with 2 Axes>"
            ],
            "image/png": "[encoded data removed]"
          },
          "metadata": {}
        }
      ]
    },
    {
      "cell_type": "code",
      "source": [],
      "metadata": {
        "id": "vDcrFy-EnA7C"
      },
      "execution_count": null,
      "outputs": []
    },
    {
      "cell_type": "code",
      "source": [
        "import shap\n",
        "\n",
        "logreg = LogisticRegression(random_state=16, max_iter=10000)\n",
        "logreg.fit(x_train_encoded, y1_train_encoded)\n",
        "\n",
        "explainer = shap.Explainer(logreg, x_train_encoded)\n",
        "\n",
        "shap_values = explainer(x_test_encoded)\n",
        "\n",
        "shap.summary_plot(shap_values, feature_names=original_feature_names, plot_type=\"bar\")\n"
      ],
      "metadata": {
        "colab": {
          "base_uri": "https://localhost:8080/",
          "height": 957
        },
        "id": "zvcbAZ6InVHQ",
        "outputId": "859acd7d-1f22-4d73-a738-78df5465368c"
      },
      "execution_count": 44,
      "outputs": [
        {
          "output_type": "display_data",
          "data": {
            "text/plain": [
              "<Figure size 800x950 with 1 Axes>"
            ],
            "image/png": "[encoded data removed]"
          },
          "metadata": {}
        }
      ]
    },
    {
      "cell_type": "code",
      "source": [
        "import pandas as pd\n",
        "import numpy as np\n",
        "from sklearn.svm import SVC\n",
        "from sklearn.model_selection import train_test_split\n",
        "from sklearn.metrics import accuracy_score, confusion_matrix, classification_report"
      ],
      "metadata": {
        "id": "LL7fPFsHn5Da"
      },
      "execution_count": 28,
      "outputs": []
    },
    {
      "cell_type": "code",
      "source": [
        "svm = SVC(kernel='rbf', C=1.0, gamma='scale', random_state=42)\n",
        "\n",
        "svm.fit(x_train_encoded, y1_train_encoded)\n",
        "\n",
        "y_pred = svm.predict(x_test_encoded)\n",
        "\n",
        "print('Accuracy:', accuracy_score(y1_test_encoded, y1_pred))\n",
        "print('Confusion matrix:\\n', confusion_matrix(y1_test_encoded, y1_pred))\n",
        "print('Classification report:\\n', classification_report(y1_test_encoded, y1_pred))"
      ],
      "metadata": {
        "colab": {
          "base_uri": "https://localhost:8080/"
        },
        "id": "aBkij5mPtE9J",
        "outputId": "54b46c8f-4b89-4f65-ca53-3819a72e3018"
      },
      "execution_count": 29,
      "outputs": [
        {
          "output_type": "stream",
          "name": "stdout",
          "text": [
            "Accuracy: 0.7234494477485132\n",
            "Confusion matrix:\n",
            " [[3368   44]\n",
            " [1258   38]]\n",
            "Classification report:\n",
            "               precision    recall  f1-score   support\n",
            "\n",
            "           0       0.73      0.99      0.84      3412\n",
            "           1       0.46      0.03      0.06      1296\n",
            "\n",
            "    accuracy                           0.72      4708\n",
            "   macro avg       0.60      0.51      0.45      4708\n",
            "weighted avg       0.66      0.72      0.62      4708\n",
            "\n"
          ]
        }
      ]
    },
    {
      "cell_type": "code",
      "source": [],
      "metadata": {
        "id": "YkElmEnJtFUw"
      },
      "execution_count": null,
      "outputs": []
    }
  ]
}